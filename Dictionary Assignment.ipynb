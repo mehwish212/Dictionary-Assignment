{
 "cells": [
  {
   "cell_type": "code",
   "execution_count": 1,
   "metadata": {},
   "outputs": [
    {
     "name": "stdout",
     "output_type": "stream",
     "text": [
      "abdullah\n",
      "hassan\n",
      "16\n",
      "karachi\n"
     ]
    }
   ],
   "source": [
    "#ASSIGNMENT\n",
    "#try it yourself 6-1\n",
    "person= {'first_name' : 'abdullah','last_name':'hassan','age':16,'city':'karachi'}\n",
    "print(person['first_name'])\n",
    "print(person['last_name'])\n",
    "print(person['age'])\n",
    "print(person['city'])\n"
   ]
  },
  {
   "cell_type": "code",
   "execution_count": 2,
   "metadata": {},
   "outputs": [
    {
     "name": "stdout",
     "output_type": "stream",
     "text": [
      "Abdullh's favorite number is 4\n",
      "Fahad's favorite number is 2\n",
      "Ahsan's favorite number is 6\n",
      "Ahmed's favorite number is 3\n",
      "Ali's favorite number is 7\n"
     ]
    }
   ],
   "source": [
    "#try it yourself 6-2\n",
    "favorite_numbers = {'abdullah':4,'fahad':2,'ahsan':6,'ahmed':3,'ali':7}\n",
    "value = favorite_numbers['abdullah']\n",
    "print(\"Abdullh's favorite number is \" + str(value))\n",
    "value = favorite_numbers['fahad']\n",
    "print(\"Fahad's favorite number is \" + str(value))\n",
    "value = favorite_numbers['ahsan']\n",
    "print(\"Ahsan's favorite number is \" + str(value))\n",
    "value = favorite_numbers['ahmed']\n",
    "print(\"Ahmed's favorite number is \" + str(value))\n",
    "value = favorite_numbers['ali']\n",
    "print(\"Ali's favorite number is \" + str(value))"
   ]
  },
  {
   "cell_type": "code",
   "execution_count": 4,
   "metadata": {},
   "outputs": [
    {
     "name": "stdout",
     "output_type": "stream",
     "text": [
      "\n",
      "String means:\n",
      "sequence of characters\n",
      "\n",
      "Variable means:\n",
      "store data\n",
      "\n",
      "Tuple means:\n",
      "a sequence of immutable objects\n",
      "\n",
      "List means:\n",
      "can store diff datatypes\n",
      "\n",
      "Dictionary means:\n",
      "store piece of info\n"
     ]
    }
   ],
   "source": [
    "#try it yourself 6-3\n",
    "glossary = {'string':'sequence of characters',\n",
    "            'variable':'store data',\n",
    "            'tuple':'a sequence of immutable objects',\n",
    "            'list':'can store diff datatypes',\n",
    "            'dictionary':'store piece of info'\n",
    "           }\n",
    "value = 'string'\n",
    "print(\"\\n\"+value.title() + \" means:\\n\"+ glossary[value])\n",
    "value = 'variable'\n",
    "print(\"\\n\"+value.title() + \" means:\\n\"+ glossary[value])\n",
    "value = 'tuple'\n",
    "print(\"\\n\"+value.title() + \" means:\\n\"+ glossary[value])\n",
    "value = 'list'\n",
    "print(\"\\n\"+value.title() + \" means:\\n\"+ glossary[value])\n",
    "value = 'dictionary'\n",
    "print(\"\\n\"+value.title() + \" means:\\n\"+ glossary[value])\n"
   ]
  },
  {
   "cell_type": "code",
   "execution_count": null,
   "metadata": {
    "collapsed": true
   },
   "outputs": [],
   "source": []
  }
 ],
 "metadata": {
  "kernelspec": {
   "display_name": "Python 3",
   "language": "python",
   "name": "python3"
  },
  "language_info": {
   "codemirror_mode": {
    "name": "ipython",
    "version": 3
   },
   "file_extension": ".py",
   "mimetype": "text/x-python",
   "name": "python",
   "nbconvert_exporter": "python",
   "pygments_lexer": "ipython3",
   "version": "3.6.1"
  }
 },
 "nbformat": 4,
 "nbformat_minor": 2
}
